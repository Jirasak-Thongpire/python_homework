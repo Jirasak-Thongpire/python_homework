{
 "cells": [
  {
   "cell_type": "markdown",
   "id": "21da5ffc-4004-4d10-936e-8618701496c1",
   "metadata": {},
   "source": [
    "นาย จิรศักดิ์ ทองพิละ\n",
    "\n",
    "รหัส 6712732103"
   ]
  },
  {
   "cell_type": "code",
   "execution_count": 2,
   "id": "cb954dce-d415-4c05-adf2-6329a7ad7e79",
   "metadata": {},
   "outputs": [
    {
     "name": "stdout",
     "output_type": "stream",
     "text": [
      "hello, world\n"
     ]
    }
   ],
   "source": [
    "print(\"hello, world\")"
   ]
  },
  {
   "cell_type": "code",
   "execution_count": null,
   "id": "6d68e838-5779-47cb-b8ff-99bfa2d14ee4",
   "metadata": {},
   "outputs": [],
   "source": []
  }
 ],
 "metadata": {
  "kernelspec": {
   "display_name": "Python 3 (ipykernel)",
   "language": "python",
   "name": "python3"
  },
  "language_info": {
   "codemirror_mode": {
    "name": "ipython",
    "version": 3
   },
   "file_extension": ".py",
   "mimetype": "text/x-python",
   "name": "python",
   "nbconvert_exporter": "python",
   "pygments_lexer": "ipython3",
   "version": "3.12.7"
  }
 },
 "nbformat": 4,
 "nbformat_minor": 5
}
