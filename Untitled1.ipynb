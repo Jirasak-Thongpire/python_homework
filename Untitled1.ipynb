{
 "cells": [
  {
   "cell_type": "code",
   "execution_count": 38,
   "id": "27867b74-4741-4987-9e00-523947f88825",
   "metadata": {},
   "outputs": [],
   "source": [
    "lt = [6,9,3,7,0,1,5,2,8]"
   ]
  },
  {
   "cell_type": "code",
   "execution_count": 40,
   "id": "7ff259cc-b418-4567-a60e-9414a656d34d",
   "metadata": {},
   "outputs": [],
   "source": [
    "pivot = lt[0]"
   ]
  },
  {
   "cell_type": "code",
   "execution_count": 42,
   "id": "f7732f05-8e4b-4c0f-ade1-5eb91461e09a",
   "metadata": {},
   "outputs": [],
   "source": [
    "left = [i for i in lt if i < pivot]\n",
    "right = [i for i in lt if i > pivot]"
   ]
  },
  {
   "cell_type": "code",
   "execution_count": 52,
   "id": "483ce95d-2871-4565-be8f-21c08748b8d5",
   "metadata": {},
   "outputs": [
    {
     "data": {
      "text/plain": [
       "6"
      ]
     },
     "execution_count": 52,
     "metadata": {},
     "output_type": "execute_result"
    }
   ],
   "source": [
    "pivot"
   ]
  },
  {
   "cell_type": "code",
   "execution_count": 48,
   "id": "7ce2633f-febd-4db5-83c2-d5bae8f634bd",
   "metadata": {},
   "outputs": [
    {
     "data": {
      "text/plain": [
       "[3, 0, 1, 5, 2]"
      ]
     },
     "execution_count": 48,
     "metadata": {},
     "output_type": "execute_result"
    }
   ],
   "source": [
    "left"
   ]
  },
  {
   "cell_type": "code",
   "execution_count": 50,
   "id": "ab9f3a60-1b17-473c-a5c1-400839a1ea71",
   "metadata": {},
   "outputs": [
    {
     "data": {
      "text/plain": [
       "[9, 7, 8]"
      ]
     },
     "execution_count": 50,
     "metadata": {},
     "output_type": "execute_result"
    }
   ],
   "source": [
    "right"
   ]
  },
  {
   "cell_type": "code",
   "execution_count": 68,
   "id": "7f680580-fd98-4884-b68a-587cc4cfff42",
   "metadata": {},
   "outputs": [],
   "source": [
    "pivot_left = left[0]"
   ]
  },
  {
   "cell_type": "code",
   "execution_count": 70,
   "id": "c4211d75-ca1d-432d-86d6-a423e3200294",
   "metadata": {},
   "outputs": [],
   "source": [
    "left2 = [i for i in left if i < pivot_left]\n",
    "right2 = [i for i in left if i > pivot_left]"
   ]
  },
  {
   "cell_type": "code",
   "execution_count": 72,
   "id": "1fd341af-7ac6-414f-b70e-06da8af421df",
   "metadata": {},
   "outputs": [
    {
     "data": {
      "text/plain": [
       "3"
      ]
     },
     "execution_count": 72,
     "metadata": {},
     "output_type": "execute_result"
    }
   ],
   "source": [
    "pivot_left"
   ]
  },
  {
   "cell_type": "code",
   "execution_count": 74,
   "id": "0f97d3aa-903a-433a-86a3-fed114926cb3",
   "metadata": {},
   "outputs": [
    {
     "data": {
      "text/plain": [
       "[0, 1, 2]"
      ]
     },
     "execution_count": 74,
     "metadata": {},
     "output_type": "execute_result"
    }
   ],
   "source": [
    "left2 "
   ]
  },
  {
   "cell_type": "code",
   "execution_count": 76,
   "id": "ba6952da-760b-48c8-b335-9832146269a0",
   "metadata": {},
   "outputs": [
    {
     "data": {
      "text/plain": [
       "[5]"
      ]
     },
     "execution_count": 76,
     "metadata": {},
     "output_type": "execute_result"
    }
   ],
   "source": [
    "right2"
   ]
  },
  {
   "cell_type": "code",
   "execution_count": 78,
   "id": "ff55f451-1e33-4705-8f82-b34f6525253b",
   "metadata": {},
   "outputs": [],
   "source": [
    "pivot_left2 = left2[0]"
   ]
  },
  {
   "cell_type": "code",
   "execution_count": 90,
   "id": "57147a0e-84a1-4c82-af9e-dbd70e2a324c",
   "metadata": {},
   "outputs": [],
   "source": [
    "left3 = [i for i in left2 if i < pivot_left2]\n",
    "right3 = [i for i in left2 if i > pivot_left2]"
   ]
  },
  {
   "cell_type": "code",
   "execution_count": 92,
   "id": "3d1e8c44-3d8e-434e-bb79-9b5ca29b7f5b",
   "metadata": {},
   "outputs": [
    {
     "data": {
      "text/plain": [
       "0"
      ]
     },
     "execution_count": 92,
     "metadata": {},
     "output_type": "execute_result"
    }
   ],
   "source": [
    "pivot_left2"
   ]
  },
  {
   "cell_type": "code",
   "execution_count": 94,
   "id": "f712fc99-80bb-4f97-997f-e0e9ed352369",
   "metadata": {},
   "outputs": [
    {
     "data": {
      "text/plain": [
       "[]"
      ]
     },
     "execution_count": 94,
     "metadata": {},
     "output_type": "execute_result"
    }
   ],
   "source": [
    "left3"
   ]
  },
  {
   "cell_type": "code",
   "execution_count": 96,
   "id": "83a55161-a5d9-4f28-811a-3f2abbc7b7a9",
   "metadata": {},
   "outputs": [
    {
     "data": {
      "text/plain": [
       "[1, 2]"
      ]
     },
     "execution_count": 96,
     "metadata": {},
     "output_type": "execute_result"
    }
   ],
   "source": [
    "right3"
   ]
  },
  {
   "cell_type": "code",
   "execution_count": 100,
   "id": "4c98d720-d1b2-4534-9555-ed6315aea7c2",
   "metadata": {},
   "outputs": [],
   "source": [
    "pivot_left3 = right3[0]"
   ]
  },
  {
   "cell_type": "code",
   "execution_count": 102,
   "id": "a3305cc4-2575-4359-986a-f0c148ffad64",
   "metadata": {},
   "outputs": [],
   "source": [
    "right4 = [i for i in right3 if i > pivot_left3]"
   ]
  },
  {
   "cell_type": "code",
   "execution_count": 106,
   "id": "0985211b-eb63-4a12-8a04-fd32f4ded71a",
   "metadata": {},
   "outputs": [
    {
     "data": {
      "text/plain": [
       "1"
      ]
     },
     "execution_count": 106,
     "metadata": {},
     "output_type": "execute_result"
    }
   ],
   "source": [
    "pivot_left3"
   ]
  },
  {
   "cell_type": "code",
   "execution_count": 104,
   "id": "2d2e4388-0f8c-49b9-9a6d-380ccf8e9cb3",
   "metadata": {},
   "outputs": [
    {
     "data": {
      "text/plain": [
       "[2]"
      ]
     },
     "execution_count": 104,
     "metadata": {},
     "output_type": "execute_result"
    }
   ],
   "source": [
    "right4"
   ]
  },
  {
   "cell_type": "code",
   "execution_count": 108,
   "id": "5a29338d-bfe9-4e7f-b3e5-912241b124a6",
   "metadata": {},
   "outputs": [],
   "source": [
    "pivot_right = right[0]"
   ]
  },
  {
   "cell_type": "code",
   "execution_count": 110,
   "id": "c24e50c8-887d-4558-8960-aeef0b41f812",
   "metadata": {},
   "outputs": [],
   "source": [
    "left2 = [i for i in right if i < pivot_right]\n",
    "right2 = [i for i in right if i > pivot_right]"
   ]
  },
  {
   "cell_type": "code",
   "execution_count": 112,
   "id": "ba1b41d7-2e54-4330-a4b3-ae83b12a5f19",
   "metadata": {},
   "outputs": [
    {
     "data": {
      "text/plain": [
       "9"
      ]
     },
     "execution_count": 112,
     "metadata": {},
     "output_type": "execute_result"
    }
   ],
   "source": [
    "pivot_right"
   ]
  },
  {
   "cell_type": "code",
   "execution_count": 114,
   "id": "dd71a0a0-6dda-4678-8efc-3621472f0704",
   "metadata": {},
   "outputs": [
    {
     "data": {
      "text/plain": [
       "[7, 8]"
      ]
     },
     "execution_count": 114,
     "metadata": {},
     "output_type": "execute_result"
    }
   ],
   "source": [
    "left2"
   ]
  },
  {
   "cell_type": "code",
   "execution_count": 116,
   "id": "b7f2d8ee-78f6-4176-bbb4-1401c61e7ee6",
   "metadata": {},
   "outputs": [
    {
     "data": {
      "text/plain": [
       "[]"
      ]
     },
     "execution_count": 116,
     "metadata": {},
     "output_type": "execute_result"
    }
   ],
   "source": [
    "right2"
   ]
  },
  {
   "cell_type": "code",
   "execution_count": 118,
   "id": "6dfe5836-f5d7-4ab2-9cca-7cc73741a468",
   "metadata": {},
   "outputs": [],
   "source": [
    "pivot_right2 = left2[0]"
   ]
  },
  {
   "cell_type": "code",
   "execution_count": 120,
   "id": "bb53ec52-5280-4360-9e65-d5e9b29e4aba",
   "metadata": {},
   "outputs": [],
   "source": [
    "left2 = [i for i in left2 if i < pivot_right2]"
   ]
  },
  {
   "cell_type": "code",
   "execution_count": 122,
   "id": "7bf58578-7c1d-425b-9709-828936dde02e",
   "metadata": {},
   "outputs": [
    {
     "data": {
      "text/plain": [
       "7"
      ]
     },
     "execution_count": 122,
     "metadata": {},
     "output_type": "execute_result"
    }
   ],
   "source": [
    "pivot_right2"
   ]
  },
  {
   "cell_type": "code",
   "execution_count": 124,
   "id": "f18cf334-aaa3-4dc5-835a-1f7413606938",
   "metadata": {},
   "outputs": [
    {
     "data": {
      "text/plain": [
       "[]"
      ]
     },
     "execution_count": 124,
     "metadata": {},
     "output_type": "execute_result"
    }
   ],
   "source": [
    "left2"
   ]
  },
  {
   "cell_type": "code",
   "execution_count": null,
   "id": "85b25d08-6128-4732-9d73-3fe76d2bbd6c",
   "metadata": {},
   "outputs": [],
   "source": []
  }
 ],
 "metadata": {
  "kernelspec": {
   "display_name": "Python 3 (ipykernel)",
   "language": "python",
   "name": "python3"
  },
  "language_info": {
   "codemirror_mode": {
    "name": "ipython",
    "version": 3
   },
   "file_extension": ".py",
   "mimetype": "text/x-python",
   "name": "python",
   "nbconvert_exporter": "python",
   "pygments_lexer": "ipython3",
   "version": "3.12.7"
  }
 },
 "nbformat": 4,
 "nbformat_minor": 5
}
