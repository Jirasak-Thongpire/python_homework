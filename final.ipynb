{
 "cells": [
  {
   "cell_type": "code",
   "execution_count": 57,
   "id": "902492f9-8fd4-4588-94b1-5727a770a730",
   "metadata": {},
   "outputs": [
    {
     "name": "stdin",
     "output_type": "stream",
     "text": [
      "input x :  3\n",
      "input y :  12\n"
     ]
    },
    {
     "name": "stdout",
     "output_type": "stream",
     "text": [
      "กบต้องกระโดดอย่างน้อย 4 ครั้งเพื่อไปจากจุด A ถึงจุด B\n"
     ]
    }
   ],
   "source": [
    "def distance_and_jump():\n",
    "    # อินพุต\n",
    "    x = int(input('input x : '))\n",
    "    y = int(input('input y : '))\n",
    "    \n",
    "    # ตรวจสอบว่าอยู่ในช่วงที่กำหนดหรือไม่\n",
    "    if 1 <= x <= 1000 and 1 <= y <= 1000:\n",
    "        # ส่งคืนค่า x และ y เป็นระยะห่างระหว่างจุด A และ B\n",
    "        return x, y\n",
    "    else:\n",
    "        return None, None\n",
    "\n",
    "# เรียกใช้ฟังก์ชัน\n",
    "jump, total = distance_and_jump()\n",
    "\n",
    "# ตรวจสอบว่าค่าที่ได้ถูกต้องหรือไม่\n",
    "if jump is not None:\n",
    "    # คำนวณจำนวนครั้งที่น้อยที่สุดที่ต้องกระโดด\n",
    "    if total % jump == 0:\n",
    "        min_jumps = total // jump\n",
    "    else:\n",
    "        min_jumps = (total // jump) + 1\n",
    "    \n",
    "    print(f\"กบต้องกระโดดอย่างน้อย {min_jumps} ครั้งเพื่อไปจากจุด A ถึงจุด B\")"
   ]
  },
  {
   "cell_type": "code",
   "execution_count": null,
   "id": "f6cf458a-330e-48fa-9eac-b8b582a89151",
   "metadata": {},
   "outputs": [],
   "source": []
  }
 ],
 "metadata": {
  "kernelspec": {
   "display_name": "Python 3 (ipykernel)",
   "language": "python",
   "name": "python3"
  },
  "language_info": {
   "codemirror_mode": {
    "name": "ipython",
    "version": 3
   },
   "file_extension": ".py",
   "mimetype": "text/x-python",
   "name": "python",
   "nbconvert_exporter": "python",
   "pygments_lexer": "ipython3",
   "version": "3.12.7"
  }
 },
 "nbformat": 4,
 "nbformat_minor": 5
}
