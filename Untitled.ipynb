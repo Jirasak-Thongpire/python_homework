{
 "cells": [
  {
   "cell_type": "code",
   "execution_count": 1,
   "id": "1f89e2de-4872-4986-9c02-51731d5278e0",
   "metadata": {},
   "outputs": [
    {
     "name": "stdout",
     "output_type": "stream",
     "text": [
      "2\n",
      "3\n",
      "5\n",
      "7\n",
      "11\n",
      "13\n",
      "17\n",
      "19\n",
      "23\n",
      "29\n",
      "31\n",
      "37\n",
      "41\n",
      "43\n",
      "47\n",
      "53\n",
      "59\n",
      "61\n",
      "67\n",
      "71\n",
      "73\n",
      "79\n",
      "83\n",
      "89\n",
      "97\n"
     ]
    }
   ],
   "source": [
    "# สร้างชุดตัวเลขในช่วง 1 - 100\n",
    "for i in range(1, 101):\n",
    "    # กำหนดตัวแปร flag เป็น True เพื่อใช้ตรวจสอบจำนวนเฉพาะ\n",
    "    flag = True\n",
    "    \n",
    "    # ข้ามตัวเลข 1 เนื่องจากไม่ใช่จำนวนเฉพาะ\n",
    "    if i == 1:\n",
    "        continue\n",
    "    \n",
    "    # สร้างชุดตัวเลข j ในช่วง 2 ถึง i-1\n",
    "    for j in range(2, i):\n",
    "        # ตรวจสอบว่า i mod j ได้ลงตัวหรือไม่\n",
    "        if i % j == 0:\n",
    "            # ถ้าลงตัว แสดงว่า i ไม่ใช่จำนวนเฉพาะ\n",
    "            flag = False\n",
    "            break  # ออกจากลูปทันทีเพราะไม่จำเป็นต้องตรวจสอบต่อ\n",
    "    \n",
    "    # ถ้า flag ยังเป็น True อยู่ แสดงว่า i เป็นจำนวนเฉพาะ\n",
    "    if flag:\n",
    "        print(i)\n"
   ]
  },
  {
   "cell_type": "code",
   "execution_count": 9,
   "id": "c5524b21-bc13-4f59-a47e-a05493ea7f6c",
   "metadata": {},
   "outputs": [
    {
     "name": "stdin",
     "output_type": "stream",
     "text": [
      "กรุณากรอกความยาว:  10\n",
      "กรุณากรอกความกว้าง:  5\n"
     ]
    },
    {
     "name": "stdout",
     "output_type": "stream",
     "text": [
      "พื้นที่ของสี่เหลี่ยมผืนผ้าคือ: 50\n"
     ]
    }
   ],
   "source": [
    "long = int(input(\"กรุณากรอกความยาว: \"))\n",
    "wide = int(input(\"กรุณากรอกความกว้าง: \"))\n",
    "\n",
    "area = long * wide\n",
    "print(\"พื้นที่ของสี่เหลี่ยมผืนผ้าคือ: {}\".format(area))\n"
   ]
  },
  {
   "cell_type": "code",
   "execution_count": 13,
   "id": "4a93f711-57a5-4bea-90d3-5aa3059e438c",
   "metadata": {},
   "outputs": [
    {
     "name": "stdin",
     "output_type": "stream",
     "text": [
      "Enter Number:  1\n"
     ]
    },
    {
     "name": "stdout",
     "output_type": "stream",
     "text": [
      "1 เป็นเลขคี่\n"
     ]
    }
   ],
   "source": [
    "number = int(input(\"Enter Number: \"))\n",
    "\n",
    "if number % 2 == 0:\n",
    "    print(\"{} เป็นเลขคู่\".format(number))\n",
    "else:\n",
    "    print(\"{} เป็นเลขคี่\".format(number))"
   ]
  },
  {
   "cell_type": "code",
   "execution_count": 19,
   "id": "5cacea13-3b4d-46ca-b38a-6d7227b2fab9",
   "metadata": {},
   "outputs": [
    {
     "name": "stdin",
     "output_type": "stream",
     "text": [
      "Enter Number:  10\n"
     ]
    },
    {
     "name": "stdout",
     "output_type": "stream",
     "text": [
      "grade E\n"
     ]
    }
   ],
   "source": [
    "num = int(input(\"Enter Number: \"))\n",
    "\n",
    "if num >= 80:\n",
    "    print(\"grade A\")\n",
    "elif num >= 70:\n",
    "    print(\"grade B\")\n",
    "elif num >= 60:\n",
    "    print(\"grade C\")\n",
    "elif num >= 50:\n",
    "    print(\"grade D\")\n",
    "else:\n",
    "    print(\"grade E\")"
   ]
  },
  {
   "cell_type": "code",
   "execution_count": null,
   "id": "bd423fd6-19dc-4a9f-b11b-9985ca939727",
   "metadata": {},
   "outputs": [],
   "source": []
  },
  {
   "cell_type": "code",
   "execution_count": null,
   "id": "cdb3c4ca-ab27-4f14-adce-4a964685c536",
   "metadata": {},
   "outputs": [],
   "source": []
  }
 ],
 "metadata": {
  "kernelspec": {
   "display_name": "Python 3 (ipykernel)",
   "language": "python",
   "name": "python3"
  },
  "language_info": {
   "codemirror_mode": {
    "name": "ipython",
    "version": 3
   },
   "file_extension": ".py",
   "mimetype": "text/x-python",
   "name": "python",
   "nbconvert_exporter": "python",
   "pygments_lexer": "ipython3",
   "version": "3.12.7"
  }
 },
 "nbformat": 4,
 "nbformat_minor": 5
}
