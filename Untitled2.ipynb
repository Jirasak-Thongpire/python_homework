{
 "cells": [
  {
   "cell_type": "code",
   "execution_count": 1,
   "id": "9d71a539-4158-4580-988d-05819e255efd",
   "metadata": {},
   "outputs": [],
   "source": [
    "lt = [5, 3, 8, 2, 1, 0, 9, 6]"
   ]
  },
  {
   "cell_type": "code",
   "execution_count": 3,
   "id": "cfb7daa9-74a9-49e9-bf49-c31f9b34e875",
   "metadata": {},
   "outputs": [],
   "source": [
    "pivot = lt[0]"
   ]
  },
  {
   "cell_type": "code",
   "execution_count": 5,
   "id": "b4803d58-0fd5-4fba-8de5-978635c27dd9",
   "metadata": {},
   "outputs": [],
   "source": [
    "left = [x for x in lt if x < pivot]\n",
    "right= [x for x in lt if x > pivot]"
   ]
  },
  {
   "cell_type": "code",
   "execution_count": 7,
   "id": "9cfd098f-f596-49ad-8fe7-656b8db5fe26",
   "metadata": {},
   "outputs": [
    {
     "data": {
      "text/plain": [
       "[3, 2, 1, 0]"
      ]
     },
     "execution_count": 7,
     "metadata": {},
     "output_type": "execute_result"
    }
   ],
   "source": [
    "left"
   ]
  },
  {
   "cell_type": "code",
   "execution_count": 9,
   "id": "b3c26762-7d64-4de0-a05e-39cb3135252d",
   "metadata": {},
   "outputs": [
    {
     "data": {
      "text/plain": [
       "[8, 9, 6]"
      ]
     },
     "execution_count": 9,
     "metadata": {},
     "output_type": "execute_result"
    }
   ],
   "source": [
    "right"
   ]
  },
  {
   "cell_type": "code",
   "execution_count": 11,
   "id": "34832c71-c0cb-45dd-9dc3-174848eb4029",
   "metadata": {},
   "outputs": [
    {
     "data": {
      "text/plain": [
       "[3, 2, 1, 0, 5, 8, 9, 6]"
      ]
     },
     "execution_count": 11,
     "metadata": {},
     "output_type": "execute_result"
    }
   ],
   "source": [
    "result = left + [pivot] + right\n",
    "result"
   ]
  },
  {
   "cell_type": "code",
   "execution_count": null,
   "id": "66e06b3a-0eeb-4f15-bae4-51f1e6b54db1",
   "metadata": {},
   "outputs": [],
   "source": []
  }
 ],
 "metadata": {
  "kernelspec": {
   "display_name": "Python 3 (ipykernel)",
   "language": "python",
   "name": "python3"
  },
  "language_info": {
   "codemirror_mode": {
    "name": "ipython",
    "version": 3
   },
   "file_extension": ".py",
   "mimetype": "text/x-python",
   "name": "python",
   "nbconvert_exporter": "python",
   "pygments_lexer": "ipython3",
   "version": "3.12.7"
  }
 },
 "nbformat": 4,
 "nbformat_minor": 5
}
